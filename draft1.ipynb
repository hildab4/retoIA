{
 "cells": [
  {
   "cell_type": "markdown",
   "id": "90d9e1c6",
   "metadata": {},
   "source": [
    "# Reto Limpieza del Conjunto de Datos\n",
    "\n",
    "### Equipo\n",
    "Diego Díaz,\n",
    "Carlos Ortega,\n",
    "Eduardo González,\n",
    "Jesús Miranda,\n",
    "Hilda Beltrán"
   ]
  },
  {
   "cell_type": "markdown",
   "id": "6eabf8ed",
   "metadata": {},
   "source": [
    "## Extract data"
   ]
  },
  {
   "cell_type": "code",
   "execution_count": 12,
   "id": "b75f22c4",
   "metadata": {},
   "outputs": [],
   "source": [
    "# Import necessary libraries to extract, transform and visualize data\n",
    "import os\n",
    "import pandas as pd\n",
    "import matplotlib.pyplot as plt\n",
    "import numpy as np\n",
    "import seaborn as sns\n",
    "import plotly.express as px\n",
    "import re"
   ]
  },
  {
   "cell_type": "code",
   "execution_count": 13,
   "id": "c2d730f3",
   "metadata": {},
   "outputs": [],
   "source": [
    "# Path where files are stored\n",
    "DATA_PATH = 'C:/Users/hilda/Documents/Codigos IA/Reto/Datasets'"
   ]
  },
  {
   "cell_type": "code",
   "execution_count": 14,
   "id": "6e2e39d4",
   "metadata": {},
   "outputs": [],
   "source": [
    "# Create a DataFrame from each dataset\n",
    "df_train = pd.read_csv(os.path.join(DATA_PATH,'train.csv'))\n",
    "df_oil = pd.read_csv(os.path.join(DATA_PATH,'oil.csv'))\n",
    "df_holiday = pd.read_csv(os.path.join(DATA_PATH,'holidays_events.csv'))\n",
    "df_stores = pd.read_csv(os.path.join(DATA_PATH,'stores.csv'))\n",
    "df_transactions = pd.read_csv(os.path.join(DATA_PATH,'transactions.csv'))\n",
    "df_test = pd.read_csv(os.path.join(DATA_PATH,'test.csv'))"
   ]
  },
  {
   "cell_type": "markdown",
   "id": "340e382a",
   "metadata": {},
   "source": [
    "## Cleaning data\n",
    "\n",
    "### Looking for NaN values"
   ]
  },
  {
   "cell_type": "code",
   "execution_count": 15,
   "id": "4200b422",
   "metadata": {},
   "outputs": [
    {
     "name": "stdout",
     "output_type": "stream",
     "text": [
      "NaN train: 0\n",
      "NaN test: 0\n",
      "NaN oil: 43\n",
      "NaN holidays events: 0\n",
      "NaN stores: 0\n",
      "NaN transactions: 0\n"
     ]
    }
   ],
   "source": [
    "# Look for NaN values in the DataFrames\n",
    "henan = df_holiday.isna().sum().sum()\n",
    "oilnan = df_oil.isna().sum().sum()\n",
    "storesnan = df_stores.isna().sum().sum()\n",
    "testnan = df_test.isna().sum().sum()\n",
    "trainnan = df_train.isna().sum().sum()\n",
    "transnan = df_transactions.isna().sum().sum()\n",
    "\n",
    "print('NaN train:', trainnan)\n",
    "print('NaN test:', testnan)\n",
    "print('NaN oil:', oilnan)\n",
    "print('NaN holidays events:', henan)\n",
    "print('NaN stores:', storesnan)\n",
    "print('NaN transactions:', transnan)"
   ]
  },
  {
   "cell_type": "code",
   "execution_count": 16,
   "id": "903bbf0f",
   "metadata": {},
   "outputs": [
    {
     "data": {
      "text/html": [
       "<div>\n",
       "<style scoped>\n",
       "    .dataframe tbody tr th:only-of-type {\n",
       "        vertical-align: middle;\n",
       "    }\n",
       "\n",
       "    .dataframe tbody tr th {\n",
       "        vertical-align: top;\n",
       "    }\n",
       "\n",
       "    .dataframe thead th {\n",
       "        text-align: right;\n",
       "    }\n",
       "</style>\n",
       "<table border=\"1\" class=\"dataframe\">\n",
       "  <thead>\n",
       "    <tr style=\"text-align: right;\">\n",
       "      <th></th>\n",
       "      <th>dcoilwtico</th>\n",
       "    </tr>\n",
       "  </thead>\n",
       "  <tbody>\n",
       "    <tr>\n",
       "      <th>count</th>\n",
       "      <td>1175.000000</td>\n",
       "    </tr>\n",
       "    <tr>\n",
       "      <th>mean</th>\n",
       "      <td>67.714366</td>\n",
       "    </tr>\n",
       "    <tr>\n",
       "      <th>std</th>\n",
       "      <td>25.630476</td>\n",
       "    </tr>\n",
       "    <tr>\n",
       "      <th>min</th>\n",
       "      <td>26.190000</td>\n",
       "    </tr>\n",
       "    <tr>\n",
       "      <th>25%</th>\n",
       "      <td>46.405000</td>\n",
       "    </tr>\n",
       "    <tr>\n",
       "      <th>50%</th>\n",
       "      <td>53.190000</td>\n",
       "    </tr>\n",
       "    <tr>\n",
       "      <th>75%</th>\n",
       "      <td>95.660000</td>\n",
       "    </tr>\n",
       "    <tr>\n",
       "      <th>max</th>\n",
       "      <td>110.620000</td>\n",
       "    </tr>\n",
       "  </tbody>\n",
       "</table>\n",
       "</div>"
      ],
      "text/plain": [
       "        dcoilwtico\n",
       "count  1175.000000\n",
       "mean     67.714366\n",
       "std      25.630476\n",
       "min      26.190000\n",
       "25%      46.405000\n",
       "50%      53.190000\n",
       "75%      95.660000\n",
       "max     110.620000"
      ]
     },
     "execution_count": 16,
     "metadata": {},
     "output_type": "execute_result"
    }
   ],
   "source": [
    "# Since there are 43 NaN values in df_oil, we'll analyze which Data Imputation method works best for this case\n",
    "df_oil.describe()"
   ]
  },
  {
   "cell_type": "code",
   "execution_count": 17,
   "id": "6ea2832f",
   "metadata": {},
   "outputs": [
    {
     "data": {
      "text/html": [
       "<div>\n",
       "<style scoped>\n",
       "    .dataframe tbody tr th:only-of-type {\n",
       "        vertical-align: middle;\n",
       "    }\n",
       "\n",
       "    .dataframe tbody tr th {\n",
       "        vertical-align: top;\n",
       "    }\n",
       "\n",
       "    .dataframe thead th {\n",
       "        text-align: right;\n",
       "    }\n",
       "</style>\n",
       "<table border=\"1\" class=\"dataframe\">\n",
       "  <thead>\n",
       "    <tr style=\"text-align: right;\">\n",
       "      <th></th>\n",
       "      <th>dcoilwtico</th>\n",
       "    </tr>\n",
       "  </thead>\n",
       "  <tbody>\n",
       "    <tr>\n",
       "      <th>count</th>\n",
       "      <td>1218.000000</td>\n",
       "    </tr>\n",
       "    <tr>\n",
       "      <th>mean</th>\n",
       "      <td>67.682742</td>\n",
       "    </tr>\n",
       "    <tr>\n",
       "      <th>std</th>\n",
       "      <td>25.632933</td>\n",
       "    </tr>\n",
       "    <tr>\n",
       "      <th>min</th>\n",
       "      <td>26.190000</td>\n",
       "    </tr>\n",
       "    <tr>\n",
       "      <th>25%</th>\n",
       "      <td>46.422500</td>\n",
       "    </tr>\n",
       "    <tr>\n",
       "      <th>50%</th>\n",
       "      <td>53.185000</td>\n",
       "    </tr>\n",
       "    <tr>\n",
       "      <th>75%</th>\n",
       "      <td>95.685000</td>\n",
       "    </tr>\n",
       "    <tr>\n",
       "      <th>max</th>\n",
       "      <td>110.620000</td>\n",
       "    </tr>\n",
       "  </tbody>\n",
       "</table>\n",
       "</div>"
      ],
      "text/plain": [
       "        dcoilwtico\n",
       "count  1218.000000\n",
       "mean     67.682742\n",
       "std      25.632933\n",
       "min      26.190000\n",
       "25%      46.422500\n",
       "50%      53.185000\n",
       "75%      95.685000\n",
       "max     110.620000"
      ]
     },
     "execution_count": 17,
     "metadata": {},
     "output_type": "execute_result"
    }
   ],
   "source": [
    "# Trying to interpolate data with a linear method\n",
    "df_oil_i = df_oil.copy()\n",
    "df_oil_i = df_oil_i.interpolate(method = 'linear')\n",
    "df_oil_i.loc[0, 'dcoilwtico'] = df_oil_i.dcoilwtico[1]\n",
    "df_oil_i.describe()"
   ]
  },
  {
   "cell_type": "code",
   "execution_count": 18,
   "id": "75de62ee",
   "metadata": {},
   "outputs": [
    {
     "data": {
      "text/html": [
       "<div>\n",
       "<style scoped>\n",
       "    .dataframe tbody tr th:only-of-type {\n",
       "        vertical-align: middle;\n",
       "    }\n",
       "\n",
       "    .dataframe tbody tr th {\n",
       "        vertical-align: top;\n",
       "    }\n",
       "\n",
       "    .dataframe thead th {\n",
       "        text-align: right;\n",
       "    }\n",
       "</style>\n",
       "<table border=\"1\" class=\"dataframe\">\n",
       "  <thead>\n",
       "    <tr style=\"text-align: right;\">\n",
       "      <th></th>\n",
       "      <th>dcoilwtico</th>\n",
       "    </tr>\n",
       "  </thead>\n",
       "  <tbody>\n",
       "    <tr>\n",
       "      <th>count</th>\n",
       "      <td>1218.000000</td>\n",
       "    </tr>\n",
       "    <tr>\n",
       "      <th>mean</th>\n",
       "      <td>67.714366</td>\n",
       "    </tr>\n",
       "    <tr>\n",
       "      <th>std</th>\n",
       "      <td>25.173606</td>\n",
       "    </tr>\n",
       "    <tr>\n",
       "      <th>min</th>\n",
       "      <td>26.190000</td>\n",
       "    </tr>\n",
       "    <tr>\n",
       "      <th>25%</th>\n",
       "      <td>46.700000</td>\n",
       "    </tr>\n",
       "    <tr>\n",
       "      <th>50%</th>\n",
       "      <td>53.925000</td>\n",
       "    </tr>\n",
       "    <tr>\n",
       "      <th>75%</th>\n",
       "      <td>95.332500</td>\n",
       "    </tr>\n",
       "    <tr>\n",
       "      <th>max</th>\n",
       "      <td>110.620000</td>\n",
       "    </tr>\n",
       "  </tbody>\n",
       "</table>\n",
       "</div>"
      ],
      "text/plain": [
       "        dcoilwtico\n",
       "count  1218.000000\n",
       "mean     67.714366\n",
       "std      25.173606\n",
       "min      26.190000\n",
       "25%      46.700000\n",
       "50%      53.925000\n",
       "75%      95.332500\n",
       "max     110.620000"
      ]
     },
     "execution_count": 18,
     "metadata": {},
     "output_type": "execute_result"
    }
   ],
   "source": [
    "# By replacing NaN values with the mean of the price attribute we get a smaller standard deviation\n",
    "# We will continue working with this DataFrame\n",
    "df_oil.dcoilwtico.fillna(df_oil['dcoilwtico'].mean(), inplace = True)\n",
    "df_oil.describe()"
   ]
  },
  {
   "cell_type": "markdown",
   "id": "37672d56",
   "metadata": {},
   "source": [
    "### Looking for and replacing special characters and numbers"
   ]
  },
  {
   "cell_type": "code",
   "execution_count": 19,
   "id": "2d0cf985",
   "metadata": {},
   "outputs": [],
   "source": [
    "# By viewing the holidays_events file, we notice there were some special characters in the description column.\n",
    "# Therefore, in order to get a single categorization for each event in the description, we will ignore this distinction.\n",
    "# We're also ignoring the word 'Puente' from the description column.\n",
    "df_holiday.description = df_holiday.description.str.replace('-', '').str.replace('+', '').str.replace('\\d+', '', regex=True).str.replace('Puente ', '')"
   ]
  },
  {
   "cell_type": "markdown",
   "id": "c2d710c9",
   "metadata": {},
   "source": [
    "## Data Transformation"
   ]
  },
  {
   "cell_type": "code",
   "execution_count": 20,
   "id": "b6158420",
   "metadata": {},
   "outputs": [
    {
     "data": {
      "text/html": [
       "<div>\n",
       "<style scoped>\n",
       "    .dataframe tbody tr th:only-of-type {\n",
       "        vertical-align: middle;\n",
       "    }\n",
       "\n",
       "    .dataframe tbody tr th {\n",
       "        vertical-align: top;\n",
       "    }\n",
       "\n",
       "    .dataframe thead th {\n",
       "        text-align: right;\n",
       "    }\n",
       "</style>\n",
       "<table border=\"1\" class=\"dataframe\">\n",
       "  <thead>\n",
       "    <tr style=\"text-align: right;\">\n",
       "      <th></th>\n",
       "      <th>date</th>\n",
       "      <th>type</th>\n",
       "      <th>locale</th>\n",
       "      <th>locale_name</th>\n",
       "      <th>description</th>\n",
       "    </tr>\n",
       "  </thead>\n",
       "  <tbody>\n",
       "    <tr>\n",
       "      <th>count</th>\n",
       "      <td>326</td>\n",
       "      <td>326</td>\n",
       "      <td>326</td>\n",
       "      <td>326</td>\n",
       "      <td>326</td>\n",
       "    </tr>\n",
       "    <tr>\n",
       "      <th>unique</th>\n",
       "      <td>290</td>\n",
       "      <td>5</td>\n",
       "      <td>3</td>\n",
       "      <td>24</td>\n",
       "      <td>55</td>\n",
       "    </tr>\n",
       "    <tr>\n",
       "      <th>top</th>\n",
       "      <td>2014-06-25</td>\n",
       "      <td>Holiday</td>\n",
       "      <td>National</td>\n",
       "      <td>Ecuador</td>\n",
       "      <td>Navidad</td>\n",
       "    </tr>\n",
       "    <tr>\n",
       "      <th>freq</th>\n",
       "      <td>4</td>\n",
       "      <td>209</td>\n",
       "      <td>158</td>\n",
       "      <td>158</td>\n",
       "      <td>38</td>\n",
       "    </tr>\n",
       "  </tbody>\n",
       "</table>\n",
       "</div>"
      ],
      "text/plain": [
       "              date     type    locale locale_name description\n",
       "count          326      326       326         326         326\n",
       "unique         290        5         3          24          55\n",
       "top     2014-06-25  Holiday  National     Ecuador     Navidad\n",
       "freq             4      209       158         158          38"
      ]
     },
     "execution_count": 20,
     "metadata": {},
     "output_type": "execute_result"
    }
   ],
   "source": [
    "# The holidays_events file has a category for Holiday and Transfer, as well as a transferred column.\n",
    "# Since we want the day in which the holiday was celebrated, we'll get this info by comparing the date for both categories.\n",
    "holiday = pd.DataFrame()\n",
    "h = df_holiday[(df_holiday.type == 'Holiday') & (df_holiday.transferred == True)]\n",
    "t = df_holiday[(df_holiday.type == 'Transfer')]\n",
    "holiday = h.drop('transferred', axis = 1).reset_index(drop = True)\n",
    "holiday['date'] = t.date.reset_index(drop = True)\n",
    "df_holiday = df_holiday[(df_holiday.transferred == False) & (df_holiday.type != 'Transfer')].drop('transferred', axis = 1)\n",
    "df_holiday.describe()"
   ]
  },
  {
   "cell_type": "code",
   "execution_count": 21,
   "id": "34822e5b",
   "metadata": {},
   "outputs": [
    {
     "data": {
      "text/html": [
       "<div>\n",
       "<style scoped>\n",
       "    .dataframe tbody tr th:only-of-type {\n",
       "        vertical-align: middle;\n",
       "    }\n",
       "\n",
       "    .dataframe tbody tr th {\n",
       "        vertical-align: top;\n",
       "    }\n",
       "\n",
       "    .dataframe thead th {\n",
       "        text-align: right;\n",
       "    }\n",
       "</style>\n",
       "<table border=\"1\" class=\"dataframe\">\n",
       "  <thead>\n",
       "    <tr style=\"text-align: right;\">\n",
       "      <th></th>\n",
       "      <th>date</th>\n",
       "      <th>type</th>\n",
       "      <th>locale</th>\n",
       "      <th>locale_name</th>\n",
       "      <th>description</th>\n",
       "    </tr>\n",
       "  </thead>\n",
       "  <tbody>\n",
       "    <tr>\n",
       "      <th>count</th>\n",
       "      <td>326</td>\n",
       "      <td>326</td>\n",
       "      <td>326</td>\n",
       "      <td>326</td>\n",
       "      <td>326</td>\n",
       "    </tr>\n",
       "    <tr>\n",
       "      <th>unique</th>\n",
       "      <td>290</td>\n",
       "      <td>3</td>\n",
       "      <td>3</td>\n",
       "      <td>24</td>\n",
       "      <td>55</td>\n",
       "    </tr>\n",
       "    <tr>\n",
       "      <th>top</th>\n",
       "      <td>2014-06-25</td>\n",
       "      <td>Holiday</td>\n",
       "      <td>National</td>\n",
       "      <td>Ecuador</td>\n",
       "      <td>Navidad</td>\n",
       "    </tr>\n",
       "    <tr>\n",
       "      <th>freq</th>\n",
       "      <td>4</td>\n",
       "      <td>265</td>\n",
       "      <td>158</td>\n",
       "      <td>158</td>\n",
       "      <td>38</td>\n",
       "    </tr>\n",
       "  </tbody>\n",
       "</table>\n",
       "</div>"
      ],
      "text/plain": [
       "              date     type    locale locale_name description\n",
       "count          326      326       326         326         326\n",
       "unique         290        3         3          24          55\n",
       "top     2014-06-25  Holiday  National     Ecuador     Navidad\n",
       "freq             4      265       158         158          38"
      ]
     },
     "execution_count": 21,
     "metadata": {},
     "output_type": "execute_result"
    }
   ],
   "source": [
    "pd.concat([df_holiday, holiday], ignore_index=True)\n",
    "df_holiday['type'] = np.where(df_holiday['type'] == 'Additional', 'Holiday', df_holiday['type'])\n",
    "df_holiday['type'] = np.where(df_holiday['type'] == 'Bridge', 'Holiday', df_holiday['type'])\n",
    "df_holiday.describe()"
   ]
  },
  {
   "cell_type": "code",
   "execution_count": null,
   "id": "8ba9df33",
   "metadata": {},
   "outputs": [],
   "source": [
    "# Add a column in train to get the correlation between sales and the item's family\n",
    "df_train['sales-family'] = df_train.sales.corr(df_train.family)\n",
    "df_train"
   ]
  },
  {
   "cell_type": "code",
   "execution_count": null,
   "id": "c96a0508",
   "metadata": {},
   "outputs": [],
   "source": [
    "print(df_train.sales.corr(df_train.family))"
   ]
  }
 ],
 "metadata": {
  "kernelspec": {
   "display_name": "Python 3 (ipykernel)",
   "language": "python",
   "name": "python3"
  },
  "language_info": {
   "codemirror_mode": {
    "name": "ipython",
    "version": 3
   },
   "file_extension": ".py",
   "mimetype": "text/x-python",
   "name": "python",
   "nbconvert_exporter": "python",
   "pygments_lexer": "ipython3",
   "version": "3.11.5"
  }
 },
 "nbformat": 4,
 "nbformat_minor": 5
}
